{
 "cells": [
  {
   "cell_type": "markdown",
   "metadata": {},
   "source": [
    "**patch()** can be used as a <span style=\"color:blue\">**decorator**</span>, a <span style=\"color:blue\">**context manager**</span>, or <span style=\"color:blue\">**stand-alone**</span>.\n",
    "\n",
    "With **patch()**, by default, values are replaced with **MagicMock** instances."
   ]
  },
  {
   "cell_type": "markdown",
   "metadata": {},
   "source": [
    "#### Import for all"
   ]
  },
  {
   "cell_type": "code",
   "execution_count": null,
   "metadata": {},
   "outputs": [],
   "source": [
    "from unittest.mock import patch"
   ]
  },
  {
   "cell_type": "markdown",
   "metadata": {},
   "source": [
    "#### Basic patch"
   ]
  },
  {
   "cell_type": "code",
   "execution_count": null,
   "metadata": {},
   "outputs": [],
   "source": [
    "x = 42"
   ]
  },
  {
   "cell_type": "code",
   "execution_count": null,
   "metadata": {},
   "outputs": [],
   "source": [
    "# same as patch('__main__.x', new='patched_value')\n",
    "with patch('__main__.x', 'patched_value'):\n",
    "    print(x)"
   ]
  },
  {
   "cell_type": "code",
   "execution_count": null,
   "metadata": {},
   "outputs": [],
   "source": [
    "x"
   ]
  },
  {
   "cell_type": "code",
   "execution_count": null,
   "metadata": {},
   "outputs": [],
   "source": [
    "# 'new' defaults to MagicMock\n",
    "with patch('__main__.x'):\n",
    "    print(x)"
   ]
  },
  {
   "cell_type": "code",
   "execution_count": null,
   "metadata": {},
   "outputs": [],
   "source": [
    "x"
   ]
  },
  {
   "cell_type": "markdown",
   "metadata": {},
   "source": [
    "#### Test print"
   ]
  },
  {
   "cell_type": "code",
   "execution_count": null,
   "metadata": {},
   "outputs": [],
   "source": [
    "def urlprint(protocol, host, domain):\n",
    "    url = '{}://{}.{}'.format(protocol, host, domain)\n",
    "    print(url)"
   ]
  },
  {
   "cell_type": "code",
   "execution_count": null,
   "metadata": {},
   "outputs": [],
   "source": [
    "from unittest.mock import patch\n",
    "from io import StringIO\n",
    "\n",
    "with patch('sys.stdout', new=StringIO()) as fake_out:\n",
    "    expected_url = 'protocol://host.domain\\n'\n",
    "    urlprint('protocol', 'host', 'domain')\n",
    "    assert fake_out.getvalue() == expected_url"
   ]
  },
  {
   "cell_type": "markdown",
   "metadata": {},
   "source": [
    "#### Patch object, dict,..."
   ]
  },
  {
   "cell_type": "code",
   "execution_count": null,
   "metadata": {},
   "outputs": [],
   "source": [
    "class ProductionClass:\n",
    "    def method(self):\n",
    "        pass\n",
    "    \n",
    "    def other_method(self):\n",
    "        print(10)\n",
    "\n",
    "with patch.object(ProductionClass, 'method', return_value=None) as mock_method:\n",
    "    thing = ProductionClass()\n",
    "#     thing.other_method()\n",
    "    thing.method(1, 2, 3)\n",
    "mock_method.assert_called_once_with(1, 2, 3)"
   ]
  },
  {
   "cell_type": "code",
   "execution_count": null,
   "metadata": {},
   "outputs": [],
   "source": [
    "foo = {'key': 'value'}\n",
    "original = foo.copy()\n",
    "with patch.dict(foo, {'newkey': 'newvalue'}, clear=True):\n",
    "    assert foo == {'newkey': 'newvalue'}\n",
    "assert foo == original"
   ]
  },
  {
   "cell_type": "code",
   "execution_count": null,
   "metadata": {},
   "outputs": [],
   "source": [
    "def func(n):\n",
    "    print('func input:', n)\n",
    "    return n"
   ]
  },
  {
   "cell_type": "markdown",
   "metadata": {},
   "source": [
    "#### 3 ways of using patch"
   ]
  },
  {
   "cell_type": "code",
   "execution_count": null,
   "metadata": {},
   "outputs": [],
   "source": [
    "@patch('__main__.func')\n",
    "def test1(x, mock_func):\n",
    "    print('x:', x)\n",
    "    func(x) # Uses patched example.func\n",
    "    mock_func.assert_called_with(x)  # assert that mock_func was called with parameter x\n",
    "    \n",
    "test1(10)"
   ]
  },
  {
   "cell_type": "code",
   "execution_count": null,
   "metadata": {},
   "outputs": [],
   "source": [
    "with patch('__main__.func') as mock_func:\n",
    "    func(x) # Uses patched example.func\n",
    "    mock_func.assert_called_with(x)  # assert that mock_func was called with parameter x"
   ]
  },
  {
   "cell_type": "code",
   "execution_count": null,
   "metadata": {},
   "outputs": [],
   "source": [
    "p = patch('__main__.func')\n",
    "mock_func = p.start()\n",
    "func(x)\n",
    "mock_func.assert_called_with(x)  # assert that mock_func was called with parameter x\n",
    "p.stop()"
   ]
  },
  {
   "cell_type": "markdown",
   "metadata": {},
   "source": [
    "#### Nested patches"
   ]
  },
  {
   "cell_type": "code",
   "execution_count": null,
   "metadata": {},
   "outputs": [],
   "source": [
    "class SomeClass:\n",
    "    def method_1(self):\n",
    "        pass\n",
    "    def method_2(self):\n",
    "        pass\n",
    "    def method_3(self):\n",
    "        pass\n",
    "    \n",
    "@patch.object(SomeClass, 'method_3')\n",
    "@patch.object(SomeClass, 'method_2')\n",
    "@patch.object(SomeClass, 'method_1')\n",
    "def test(mock_1, mock_2, mock_3):\n",
    "    assert SomeClass.method_1 is mock_1\n",
    "    assert SomeClass.method_2 is mock_2\n",
    "    assert SomeClass.method_3 is mock_3\n",
    "    SomeClass.method_1('foo')\n",
    "    SomeClass.method_2('bar')\n",
    "    SomeClass.method_3('foobar')\n",
    "    return mock_1, mock_2, mock_3\n",
    "mock1, mock2, mock3 = test()\n",
    "mock1.assert_called_once_with('foo')\n",
    "mock2.assert_called_once_with('bar')\n",
    "mock3.assert_called_once_with('foobar')"
   ]
  },
  {
   "cell_type": "code",
   "execution_count": null,
   "metadata": {},
   "outputs": [],
   "source": []
  }
 ],
 "metadata": {
  "kernelspec": {
   "display_name": "TDD Demo",
   "language": "python",
   "name": "tdd_demo"
  },
  "language_info": {
   "codemirror_mode": {
    "name": "ipython",
    "version": 3
   },
   "file_extension": ".py",
   "mimetype": "text/x-python",
   "name": "python",
   "nbconvert_exporter": "python",
   "pygments_lexer": "ipython3",
   "version": "3.6.7"
  }
 },
 "nbformat": 4,
 "nbformat_minor": 2
}
